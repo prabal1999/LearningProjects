{
 "cells": [
  {
   "cell_type": "code",
   "execution_count": 71,
   "metadata": {},
   "outputs": [
    {
     "name": "stderr",
     "output_type": "stream",
     "text": [
      "D:\\Program Files\\Anaconda\\lib\\site-packages\\sklearn\\utils\\validation.py:760: DataConversionWarning: A column-vector y was passed when a 1d array was expected. Please change the shape of y to (n_samples, ), for example using ravel().\n",
      "  y = column_or_1d(y, warn=True)\n"
     ]
    },
    {
     "name": "stdout",
     "output_type": "stream",
     "text": [
      "Accuracy of the model is :  0.8286038592508513\n",
      "RMSE value is :  0.1713961407491487\n",
      "f1_score is :  0.38866396761133604\n",
      "confusin matrix for the model is :  [[682  33]\n",
      " [118  48]]\n"
     ]
    }
   ],
   "source": [
    "import pandas as pd\n",
    "import numpy as np\n",
    "import sklearn \n",
    "from sklearn.model_selection import train_test_split\n",
    "from sklearn.linear_model import LogisticRegression\n",
    "from sklearn.metrics import mean_squared_error\n",
    "from sklearn.metrics import mean_squared_error\n",
    "from sklearn.metrics import confusion_matrix\n",
    "from sklearn.metrics import accuracy_score, f1_score\n",
    "\n",
    "df = pd.read_csv(\"FlightDelays.csv\")      \t\t\t\t#reads the flight delay csv file\n",
    "df[\"DEP_DELAY\"] = df[\"DEP_TIME\"] - df[\"CRS_DEP_TIME\"]\n",
    "df[\"Flight Status\"] = np.where(df[\"Flight Status\"] == \"ontime\",0 ,1)\n",
    "\n",
    "x1 = pd.get_dummies(df.ORIGIN)\n",
    "x2 = pd.get_dummies(df.DEST)\n",
    "x3 = pd.get_dummies(df.CARRIER)\n",
    "x4 = pd.get_dummies(df.FL_NUM)\n",
    "x6 = pd.get_dummies(df.Weather)\n",
    "x7 = pd.get_dummies(df.TAIL_NUM)\n",
    "x8 = pd.get_dummies(df.DAY_WEEK)\n",
    "x9 = pd.get_dummies(df.DAY_OF_MONTH)\n",
    "x10 = df[[\"DISTANCE\",\"DEP_DELAY\"]]\n",
    "\n",
    "x10 = x10.apply(lambda x: (x - x.min(axis=0))/(x.max(axis=0) - x.min(axis=0)))\n",
    "\n",
    "x = pd.concat([x1,x2,x3,x4,x6,x7,x8,x9,x10], axis=1)\n",
    "y = df[[\"Flight Status\"]]\n",
    "\n",
    "x_train, x_test, y_train, y_test = train_test_split(x, y, test_size=0.4)\n",
    "model = LogisticRegression()\n",
    "model.fit(x_train, y_train)\n",
    "\n",
    "y_pred = model.predict(x_test)\n",
    "acc = model.score(x_test,y_test)\n",
    "RMSE = mean_squared_error(y_pred,y_test)\n",
    "cm = confusion_matrix(y_test,y_pred)\n",
    "f1 = f1_score(y_test, y_pred)\n",
    "\n",
    "print(\"Accuracy of the model is : \",acc)\n",
    "print(\"RMSE value is : \",RMSE)\n",
    "print(\"f1_score is : \",f1)\n",
    "print(\"confusin matrix for the model is : \",cm)\n",
    "\n",
    "\n",
    "\n"
   ]
  },
  {
   "cell_type": "code",
   "execution_count": null,
   "metadata": {},
   "outputs": [],
   "source": []
  },
  {
   "cell_type": "code",
   "execution_count": null,
   "metadata": {},
   "outputs": [],
   "source": []
  }
 ],
 "metadata": {
  "kernelspec": {
   "display_name": "Python 3",
   "language": "python",
   "name": "python3"
  },
  "language_info": {
   "codemirror_mode": {
    "name": "ipython",
    "version": 3
   },
   "file_extension": ".py",
   "mimetype": "text/x-python",
   "name": "python",
   "nbconvert_exporter": "python",
   "pygments_lexer": "ipython3",
   "version": "3.7.6"
  }
 },
 "nbformat": 4,
 "nbformat_minor": 4
}
