{
 "cells": [
  {
   "cell_type": "code",
   "execution_count": 1,
   "id": "8b59ef7b",
   "metadata": {},
   "outputs": [],
   "source": [
    "import cv2\n",
    "import matplotlib.pyplot as plt\n",
    "import numpy as np\n",
    "%matplotlib inline"
   ]
  },
  {
   "cell_type": "code",
   "execution_count": 28,
   "id": "69b43c39",
   "metadata": {},
   "outputs": [
    {
     "data": {
      "image/png": "[encoded data removed]",
      "text/plain": [
       "<Figure size 432x288 with 1 Axes>"
      ]
     },
     "metadata": {
      "needs_background": "light"
     },
     "output_type": "display_data"
    }
   ],
   "source": [
    "img = cv2.imread('test5.jpeg', cv2.IMREAD_GRAYSCALE)\n",
    "_,thres = cv2.threshold(img, 125, 255, cv2.THRESH_BINARY_INV)\n",
    "plt.imshow(thres, cmap='gray')\n",
    "plt.show()"
   ]
  },
  {
   "cell_type": "code",
   "execution_count": 29,
   "id": "d31cffb2",
   "metadata": {},
   "outputs": [
    {
     "data": {
      "text/plain": [
       "3"
      ]
     },
     "execution_count": 29,
     "metadata": {},
     "output_type": "execute_result"
    }
   ],
   "source": [
    "cntr,_ = cv2.findContours(thres, cv2.RETR_TREE, cv2.CHAIN_APPROX_SIMPLE)\n",
    "len(cntr)"
   ]
  },
  {
   "cell_type": "code",
   "execution_count": 30,
   "id": "03be4d60",
   "metadata": {},
   "outputs": [
    {
     "data": {
      "image/png": "[encoded data removed]",
      "text/plain": [
       "<Figure size 432x288 with 1 Axes>"
      ]
     },
     "metadata": {
      "needs_background": "light"
     },
     "output_type": "display_data"
    },
    {
     "data": {
      "image/png": "[encoded data removed]",
      "text/plain": [
       "<Figure size 432x288 with 1 Axes>"
      ]
     },
     "metadata": {
      "needs_background": "light"
     },
     "output_type": "display_data"
    },
    {
     "data": {
      "image/png": "[encoded data removed]",
      "text/plain": [
       "<Figure size 432x288 with 1 Axes>"
      ]
     },
     "metadata": {
      "needs_background": "light"
     },
     "output_type": "display_data"
    }
   ],
   "source": [
    "cnt=sorted(cntr, key=lambda cntr: cv2.boundingRect(cntr)[0])\n",
    "for i in cnt:\n",
    "    x,y,w,h = cv2.boundingRect(i)\n",
    "    cv2.rectangle(thres, (x,y), (x+w, y+h), (125,125,125), 1)\n",
    "    plt.imshow(thres, cmap='gray')\n",
    "    plt.show()"
   ]
  },
  {
   "cell_type": "code",
   "execution_count": 203,
   "id": "c278eaaf",
   "metadata": {},
   "outputs": [],
   "source": [
    "im_crop = thres[y:y+h, x:x+w]\n",
    "im_crop = cv2.resize(im_crop, (28,28))"
   ]
  },
  {
   "cell_type": "code",
   "execution_count": 204,
   "id": "9d5b03a0",
   "metadata": {},
   "outputs": [
    {
     "data": {
      "text/plain": [
       "(1, 28, 28, 1)"
      ]
     },
     "execution_count": 204,
     "metadata": {},
     "output_type": "execute_result"
    }
   ],
   "source": [
    "myImg = np.reshape(im_crop, (1,28,28,1))/255\n",
    "myImg.shape"
   ]
  },
  {
   "cell_type": "code",
   "execution_count": 205,
   "id": "b6ac2125",
   "metadata": {},
   "outputs": [],
   "source": [
    "from keras.models import load_model\n",
    "myModel = load_model('trained.h5')"
   ]
  },
  {
   "cell_type": "code",
   "execution_count": 206,
   "id": "7c917796",
   "metadata": {},
   "outputs": [
    {
     "data": {
      "text/plain": [
       "'7'"
      ]
     },
     "execution_count": 206,
     "metadata": {},
     "output_type": "execute_result"
    }
   ],
   "source": [
    "val = np.argmax(myModel.predict(myImg))\n",
    "str(val)"
   ]
  },
  {
   "cell_type": "code",
   "execution_count": 145,
   "id": "d45740fe",
   "metadata": {},
   "outputs": [
    {
     "data": {
      "text/plain": [
       "15"
      ]
     },
     "execution_count": 145,
     "metadata": {},
     "output_type": "execute_result"
    }
   ],
   "source": [
    "s = '1'+'2'+'+'+'3'\n",
    "eval(s)"
   ]
  },
  {
   "cell_type": "code",
   "execution_count": 18,
   "id": "99d06bac",
   "metadata": {},
   "outputs": [],
   "source": [
    "def getTheArray(image):\n",
    "    img = cv2.imread(image, cv2.IMREAD_GRAYSCALE)\n",
    "    _,thres = cv2.threshold(img, 125, 255, cv2.THRESH_BINARY_INV)\n",
    "    cntr,_ = cv2.findContours(thres, cv2.RETR_TREE, cv2.CHAIN_APPROX_SIMPLE)\n",
    "    cnt = sorted(cntr, key=lambda cntr: cv2.boundingRect(cntr)[0])\n",
    "    \n",
    "    rect = []\n",
    "    for i in cnt:\n",
    "        x,y,w,h = cv2.boundingRect(i)\n",
    "        rect.append([x,y,w,h])\n",
    "    \n",
    "    allChar = []\n",
    "    for rec in rect:\n",
    "        x,y,w,h = rec\n",
    "        im_crop = thres[y:y+h, x:x+w]\n",
    "        im_crop = cv2.resize(im_crop, (28,28))\n",
    "        finalImg = np.reshape(im_crop, (1,28,28,1))/255\n",
    "        allChar.append(finalImg)\n",
    "    \n",
    "    return allChar"
   ]
  },
  {
   "cell_type": "code",
   "execution_count": 19,
   "id": "48ad31c8",
   "metadata": {},
   "outputs": [],
   "source": [
    "def getTheEquation(elements, cnnModel):\n",
    "    s = ''\n",
    "    for ele in elements:\n",
    "        prediction = np.argmax(cnnModel.predict(ele))\n",
    "        if(prediction == 10) : s += '-'\n",
    "        elif(prediction == 11) :s += '+'\n",
    "        elif(prediction == 12) : s += '*'\n",
    "        else : s += str(prediction)\n",
    "    \n",
    "    return s"
   ]
  },
  {
   "cell_type": "code",
   "execution_count": 31,
   "id": "2c4b84a5",
   "metadata": {},
   "outputs": [
    {
     "name": "stdout",
     "output_type": "stream",
     "text": [
      "8+8 16\n"
     ]
    },
    {
     "data": {
      "text/plain": [
       "3"
      ]
     },
     "execution_count": 31,
     "metadata": {},
     "output_type": "execute_result"
    }
   ],
   "source": [
    "from keras.models import load_model\n",
    "arr = getTheArray('test5.jpeg')\n",
    "cnnModel = load_model('trained.h5')\n",
    "\n",
    "s = getTheEquation(arr, cnnModel)\n",
    "print(s, eval(s))\n",
    "len(arr)"
   ]
  },
  {
   "cell_type": "code",
   "execution_count": 164,
   "id": "110da0f9",
   "metadata": {},
   "outputs": [
    {
     "data": {
      "text/plain": [
       "8"
      ]
     },
     "execution_count": 164,
     "metadata": {},
     "output_type": "execute_result"
    }
   ],
   "source": [
    "np.argmax(cnnModel.predict(arr[0]))"
   ]
  },
  {
   "cell_type": "code",
   "execution_count": null,
   "id": "603045c2",
   "metadata": {},
   "outputs": [],
   "source": []
  }
 ],
 "metadata": {
  "kernelspec": {
   "display_name": "Python 3",
   "language": "python",
   "name": "python3"
  },
  "language_info": {
   "codemirror_mode": {
    "name": "ipython",
    "version": 3
   },
   "file_extension": ".py",
   "mimetype": "text/x-python",
   "name": "python",
   "nbconvert_exporter": "python",
   "pygments_lexer": "ipython3",
   "version": "3.9.4"
  }
 },
 "nbformat": 4,
 "nbformat_minor": 5
}
