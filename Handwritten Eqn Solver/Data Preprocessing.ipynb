{
 "cells": [
  {
   "cell_type": "code",
   "execution_count": 1,
   "id": "1ec951b3",
   "metadata": {},
   "outputs": [],
   "source": [
    "import numpy as np\n",
    "import cv2\n",
    "from PIL import Image\n",
    "from matplotlib import pyplot as plt\n",
    "%matplotlib inline\n",
    "import os\n",
    "from os import listdir\n",
    "from os.path import isfile, join\n",
    "import pandas as pd"
   ]
  },
  {
   "cell_type": "code",
   "execution_count": 2,
   "id": "1262ccae",
   "metadata": {},
   "outputs": [],
   "source": [
    "def load_images_from_folder(folder):\n",
    "    train_data=[]\n",
    "    for filename in os.listdir(folder):\n",
    "        img = cv2.imread(os.path.join(folder,filename),cv2.IMREAD_GRAYSCALE)\n",
    "        img=~img\n",
    "        if img is not None:\n",
    "            ret,thresh=cv2.threshold(img,127,255,cv2.THRESH_BINARY)\n",
    "            ctrs,ret=cv2.findContours(thresh,cv2.RETR_EXTERNAL,cv2.CHAIN_APPROX_NONE)\n",
    "            cnt=sorted(ctrs, key=lambda ctr: cv2.boundingRect(ctr)[0])\n",
    "            w=int(28)\n",
    "            h=int(28)\n",
    "            maxi=0\n",
    "            for c in cnt:\n",
    "                x,y,w,h=cv2.boundingRect(c)\n",
    "                maxi=max(w*h,maxi)\n",
    "                if maxi==w*h:\n",
    "                    x_max=x\n",
    "                    y_max=y\n",
    "                    w_max=w\n",
    "                    h_max=h\n",
    "            im_crop= thresh[y_max:y_max+h_max+10, x_max:x_max+w_max+10]\n",
    "            im_resize = cv2.resize(im_crop,(28,28))\n",
    "            im_resize=np.reshape(im_resize,(784,1))\n",
    "            train_data.append(im_resize)\n",
    "    return train_data"
   ]
  },
  {
   "cell_type": "code",
   "execution_count": 3,
   "id": "d8d367ce",
   "metadata": {},
   "outputs": [],
   "source": [
    "data = []"
   ]
  },
  {
   "cell_type": "code",
   "execution_count": 4,
   "id": "88b31cd1",
   "metadata": {},
   "outputs": [
    {
     "name": "stdout",
     "output_type": "stream",
     "text": [
      "785\n"
     ]
    }
   ],
   "source": [
    "#10 acts as a label for subtraction operation\n",
    "data = load_images_from_folder('images/negative')\n",
    "\n",
    "for i in range(len(data)):\n",
    "    data[i] = np.append(data[i], ['10'])\n",
    "    \n",
    "print(len(data[0]))"
   ]
  },
  {
   "cell_type": "code",
   "execution_count": 5,
   "id": "4f41d842",
   "metadata": {},
   "outputs": [
    {
     "data": {
      "text/plain": [
       "(6334, 785)"
      ]
     },
     "execution_count": 5,
     "metadata": {},
     "output_type": "execute_result"
    }
   ],
   "source": [
    "#11 acts as a label for addition operation\n",
    "data11 = load_images_from_folder('images/add')\n",
    "\n",
    "for i in range(len(data11)):\n",
    "    data11[i] = np.append(data11[i], ['11'])\n",
    "data = np.concatenate((data, data11))\n",
    "\n",
    "data.shape"
   ]
  },
  {
   "cell_type": "code",
   "execution_count": 6,
   "id": "5a1d9673",
   "metadata": {},
   "outputs": [
    {
     "data": {
      "text/plain": [
       "(9585, 785)"
      ]
     },
     "execution_count": 6,
     "metadata": {},
     "output_type": "execute_result"
    }
   ],
   "source": [
    "#10 acts as a label for subtraction operation\n",
    "data12 = load_images_from_folder('images/times')\n",
    "\n",
    "for i in range(len(data12)):\n",
    "    data12[i] = np.append(data12[i], ['12'])\n",
    "data = np.concatenate((data, data12))\n",
    "data.shape"
   ]
  },
  {
   "cell_type": "code",
   "execution_count": 7,
   "id": "460408c6",
   "metadata": {},
   "outputs": [
    {
     "data": {
      "text/plain": [
       "(12446, 785)"
      ]
     },
     "execution_count": 7,
     "metadata": {},
     "output_type": "execute_result"
    }
   ],
   "source": [
    "#10 acts as a label for subtraction operation\n",
    "data0 = load_images_from_folder('images/0')\n",
    "\n",
    "for i in range(len(data0)):\n",
    "    data0[i] = np.append(data0[i], ['0'])\n",
    "data = np.concatenate((data, data0))\n",
    "data.shape"
   ]
  },
  {
   "cell_type": "code",
   "execution_count": 8,
   "id": "769cc86e",
   "metadata": {},
   "outputs": [
    {
     "data": {
      "text/plain": [
       "(15878, 785)"
      ]
     },
     "execution_count": 8,
     "metadata": {},
     "output_type": "execute_result"
    }
   ],
   "source": [
    "#10 acts as a label for subtraction operation\n",
    "data1 = load_images_from_folder('images/1')\n",
    "\n",
    "for i in range(len(data1)):\n",
    "    data1[i] = np.append(data1[i], ['1'])\n",
    "data = np.concatenate((data, data1))\n",
    "data.shape"
   ]
  },
  {
   "cell_type": "code",
   "execution_count": 9,
   "id": "9068f02d",
   "metadata": {},
   "outputs": [
    {
     "data": {
      "text/plain": [
       "(19123, 785)"
      ]
     },
     "execution_count": 9,
     "metadata": {},
     "output_type": "execute_result"
    }
   ],
   "source": [
    "#10 acts as a label for subtraction operation\n",
    "data2 = load_images_from_folder('images/2')\n",
    "\n",
    "for i in range(len(data2)):\n",
    "    data2[i] = np.append(data2[i], ['2'])\n",
    "data = np.concatenate((data, data2))\n",
    "data.shape"
   ]
  },
  {
   "cell_type": "code",
   "execution_count": 10,
   "id": "1aa9cc8b",
   "metadata": {},
   "outputs": [
    {
     "data": {
      "text/plain": [
       "(21796, 785)"
      ]
     },
     "execution_count": 10,
     "metadata": {},
     "output_type": "execute_result"
    }
   ],
   "source": [
    "#10 acts as a label for subtraction operation\n",
    "data3 = load_images_from_folder('images/3')\n",
    "\n",
    "for i in range(len(data3)):\n",
    "    data3[i] = np.append(data3[i], ['3'])\n",
    "data = np.concatenate((data, data3))\n",
    "data.shape"
   ]
  },
  {
   "cell_type": "code",
   "execution_count": 11,
   "id": "17072a3a",
   "metadata": {},
   "outputs": [
    {
     "data": {
      "text/plain": [
       "(25052, 785)"
      ]
     },
     "execution_count": 11,
     "metadata": {},
     "output_type": "execute_result"
    }
   ],
   "source": [
    "#10 acts as a label for subtraction operation\n",
    "data4 = load_images_from_folder('images/4')\n",
    "\n",
    "for i in range(len(data4)):\n",
    "    data4[i] = np.append(data4[i], ['4'])\n",
    "data = np.concatenate((data, data4))\n",
    "data.shape"
   ]
  },
  {
   "cell_type": "code",
   "execution_count": 12,
   "id": "28faab37",
   "metadata": {},
   "outputs": [
    {
     "data": {
      "text/plain": [
       "(28597, 785)"
      ]
     },
     "execution_count": 12,
     "metadata": {},
     "output_type": "execute_result"
    }
   ],
   "source": [
    "#10 acts as a label for subtraction operation\n",
    "data5 = load_images_from_folder('images/5')\n",
    "\n",
    "for i in range(len(data5)):\n",
    "    data5[i] = np.append(data5[i], ['5'])\n",
    "data = np.concatenate((data, data5))\n",
    "data.shape"
   ]
  },
  {
   "cell_type": "code",
   "execution_count": 13,
   "id": "38748157",
   "metadata": {},
   "outputs": [
    {
     "data": {
      "text/plain": [
       "(31715, 785)"
      ]
     },
     "execution_count": 13,
     "metadata": {},
     "output_type": "execute_result"
    }
   ],
   "source": [
    "#10 acts as a label for subtraction operation\n",
    "data6 = load_images_from_folder('images/6')\n",
    "\n",
    "for i in range(len(data6)):\n",
    "    data6[i] = np.append(data6[i], ['6'])\n",
    "data = np.concatenate((data, data6))\n",
    "data.shape"
   ]
  },
  {
   "cell_type": "code",
   "execution_count": 14,
   "id": "2e9e8022",
   "metadata": {},
   "outputs": [
    {
     "data": {
      "text/plain": [
       "(34624, 785)"
      ]
     },
     "execution_count": 14,
     "metadata": {},
     "output_type": "execute_result"
    }
   ],
   "source": [
    "#10 acts as a label for subtraction operation\n",
    "data7 = load_images_from_folder('images/7')\n",
    "\n",
    "for i in range(len(data7)):\n",
    "    data7[i] = np.append(data7[i], ['7'])\n",
    "data = np.concatenate((data, data7))\n",
    "data.shape"
   ]
  },
  {
   "cell_type": "code",
   "execution_count": 15,
   "id": "2af49ea1",
   "metadata": {},
   "outputs": [
    {
     "data": {
      "text/plain": [
       "(37692, 785)"
      ]
     },
     "execution_count": 15,
     "metadata": {},
     "output_type": "execute_result"
    }
   ],
   "source": [
    "#10 acts as a label for subtraction operation\n",
    "data8 = load_images_from_folder('images/8')\n",
    "\n",
    "for i in range(len(data8)):\n",
    "    data8[i] = np.append(data8[i], ['8'])\n",
    "data = np.concatenate((data, data8))\n",
    "data.shape"
   ]
  },
  {
   "cell_type": "code",
   "execution_count": 16,
   "id": "da770da6",
   "metadata": {},
   "outputs": [
    {
     "data": {
      "text/plain": [
       "(40745, 785)"
      ]
     },
     "execution_count": 16,
     "metadata": {},
     "output_type": "execute_result"
    }
   ],
   "source": [
    "#10 acts as a label for subtraction operation\n",
    "data9 = load_images_from_folder('images/9')\n",
    "\n",
    "for i in range(len(data9)):\n",
    "    data9[i] = np.append(data9[i], ['9'])\n",
    "data = np.concatenate((data, data9))\n",
    "data.shape"
   ]
  },
  {
   "cell_type": "code",
   "execution_count": 19,
   "id": "c0908c47",
   "metadata": {},
   "outputs": [],
   "source": [
    "df = pd.DataFrame(data, index=None)\n",
    "df.to_csv('train_data.csv', index=None)"
   ]
  },
  {
   "cell_type": "code",
   "execution_count": 23,
   "id": "422d5f7b",
   "metadata": {},
   "outputs": [
    {
     "data": {
      "text/html": [
       "<div>\n",
       "<style scoped>\n",
       "    .dataframe tbody tr th:only-of-type {\n",
       "        vertical-align: middle;\n",
       "    }\n",
       "\n",
       "    .dataframe tbody tr th {\n",
       "        vertical-align: top;\n",
       "    }\n",
       "\n",
       "    .dataframe thead th {\n",
       "        text-align: right;\n",
       "    }\n",
       "</style>\n",
       "<table border=\"1\" class=\"dataframe\">\n",
       "  <thead>\n",
       "    <tr style=\"text-align: right;\">\n",
       "      <th></th>\n",
       "      <th>0</th>\n",
       "      <th>1</th>\n",
       "      <th>2</th>\n",
       "      <th>3</th>\n",
       "      <th>4</th>\n",
       "      <th>5</th>\n",
       "      <th>6</th>\n",
       "      <th>7</th>\n",
       "      <th>8</th>\n",
       "      <th>9</th>\n",
       "      <th>...</th>\n",
       "      <th>775</th>\n",
       "      <th>776</th>\n",
       "      <th>777</th>\n",
       "      <th>778</th>\n",
       "      <th>779</th>\n",
       "      <th>780</th>\n",
       "      <th>781</th>\n",
       "      <th>782</th>\n",
       "      <th>783</th>\n",
       "      <th>784</th>\n",
       "    </tr>\n",
       "  </thead>\n",
       "  <tbody>\n",
       "    <tr>\n",
       "      <th>0</th>\n",
       "      <td>255</td>\n",
       "      <td>255</td>\n",
       "      <td>255</td>\n",
       "      <td>255</td>\n",
       "      <td>255</td>\n",
       "      <td>255</td>\n",
       "      <td>255</td>\n",
       "      <td>255</td>\n",
       "      <td>255</td>\n",
       "      <td>255</td>\n",
       "      <td>...</td>\n",
       "      <td>0</td>\n",
       "      <td>0</td>\n",
       "      <td>0</td>\n",
       "      <td>0</td>\n",
       "      <td>0</td>\n",
       "      <td>0</td>\n",
       "      <td>0</td>\n",
       "      <td>0</td>\n",
       "      <td>0</td>\n",
       "      <td>10</td>\n",
       "    </tr>\n",
       "    <tr>\n",
       "      <th>1</th>\n",
       "      <td>0</td>\n",
       "      <td>0</td>\n",
       "      <td>0</td>\n",
       "      <td>0</td>\n",
       "      <td>0</td>\n",
       "      <td>0</td>\n",
       "      <td>0</td>\n",
       "      <td>0</td>\n",
       "      <td>0</td>\n",
       "      <td>0</td>\n",
       "      <td>...</td>\n",
       "      <td>0</td>\n",
       "      <td>0</td>\n",
       "      <td>0</td>\n",
       "      <td>0</td>\n",
       "      <td>0</td>\n",
       "      <td>0</td>\n",
       "      <td>0</td>\n",
       "      <td>0</td>\n",
       "      <td>0</td>\n",
       "      <td>10</td>\n",
       "    </tr>\n",
       "    <tr>\n",
       "      <th>2</th>\n",
       "      <td>255</td>\n",
       "      <td>255</td>\n",
       "      <td>255</td>\n",
       "      <td>223</td>\n",
       "      <td>0</td>\n",
       "      <td>0</td>\n",
       "      <td>0</td>\n",
       "      <td>0</td>\n",
       "      <td>0</td>\n",
       "      <td>0</td>\n",
       "      <td>...</td>\n",
       "      <td>0</td>\n",
       "      <td>0</td>\n",
       "      <td>0</td>\n",
       "      <td>0</td>\n",
       "      <td>0</td>\n",
       "      <td>0</td>\n",
       "      <td>0</td>\n",
       "      <td>0</td>\n",
       "      <td>0</td>\n",
       "      <td>10</td>\n",
       "    </tr>\n",
       "    <tr>\n",
       "      <th>3</th>\n",
       "      <td>0</td>\n",
       "      <td>0</td>\n",
       "      <td>0</td>\n",
       "      <td>0</td>\n",
       "      <td>0</td>\n",
       "      <td>0</td>\n",
       "      <td>0</td>\n",
       "      <td>0</td>\n",
       "      <td>0</td>\n",
       "      <td>0</td>\n",
       "      <td>...</td>\n",
       "      <td>0</td>\n",
       "      <td>0</td>\n",
       "      <td>0</td>\n",
       "      <td>0</td>\n",
       "      <td>0</td>\n",
       "      <td>0</td>\n",
       "      <td>0</td>\n",
       "      <td>0</td>\n",
       "      <td>0</td>\n",
       "      <td>10</td>\n",
       "    </tr>\n",
       "    <tr>\n",
       "      <th>4</th>\n",
       "      <td>0</td>\n",
       "      <td>0</td>\n",
       "      <td>0</td>\n",
       "      <td>255</td>\n",
       "      <td>255</td>\n",
       "      <td>255</td>\n",
       "      <td>255</td>\n",
       "      <td>255</td>\n",
       "      <td>255</td>\n",
       "      <td>255</td>\n",
       "      <td>...</td>\n",
       "      <td>0</td>\n",
       "      <td>0</td>\n",
       "      <td>0</td>\n",
       "      <td>0</td>\n",
       "      <td>0</td>\n",
       "      <td>0</td>\n",
       "      <td>0</td>\n",
       "      <td>0</td>\n",
       "      <td>0</td>\n",
       "      <td>10</td>\n",
       "    </tr>\n",
       "  </tbody>\n",
       "</table>\n",
       "<p>5 rows × 785 columns</p>\n",
       "</div>"
      ],
      "text/plain": [
       "     0    1    2    3    4    5    6    7    8    9  ...  775  776  777  778  \\\n",
       "0  255  255  255  255  255  255  255  255  255  255  ...    0    0    0    0   \n",
       "1    0    0    0    0    0    0    0    0    0    0  ...    0    0    0    0   \n",
       "2  255  255  255  223    0    0    0    0    0    0  ...    0    0    0    0   \n",
       "3    0    0    0    0    0    0    0    0    0    0  ...    0    0    0    0   \n",
       "4    0    0    0  255  255  255  255  255  255  255  ...    0    0    0    0   \n",
       "\n",
       "   779  780  781  782  783  784  \n",
       "0    0    0    0    0    0   10  \n",
       "1    0    0    0    0    0   10  \n",
       "2    0    0    0    0    0   10  \n",
       "3    0    0    0    0    0   10  \n",
       "4    0    0    0    0    0   10  \n",
       "\n",
       "[5 rows x 785 columns]"
      ]
     },
     "execution_count": 23,
     "metadata": {},
     "output_type": "execute_result"
    }
   ],
   "source": [
    "file = pd.read_csv('train_data.csv')\n",
    "file.head()"
   ]
  },
  {
   "cell_type": "code",
   "execution_count": null,
   "id": "95ef1084",
   "metadata": {},
   "outputs": [],
   "source": []
  }
 ],
 "metadata": {
  "kernelspec": {
   "display_name": "Python 3",
   "language": "python",
   "name": "python3"
  },
  "language_info": {
   "codemirror_mode": {
    "name": "ipython",
    "version": 3
   },
   "file_extension": ".py",
   "mimetype": "text/x-python",
   "name": "python",
   "nbconvert_exporter": "python",
   "pygments_lexer": "ipython3",
   "version": "3.9.4"
  }
 },
 "nbformat": 4,
 "nbformat_minor": 5
}
